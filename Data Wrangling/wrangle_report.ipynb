{
 "cells": [
  {
   "cell_type": "markdown",
   "metadata": {},
   "source": [
    "# Report "
   ]
  },
  {
   "cell_type": "markdown",
   "metadata": {},
   "source": [
    "### Gathering\n",
    "First I have gathered the data from three resources \n",
    "\n",
    "1) Json file(tweet_json.txt) \n",
    "\n",
    "2) image prediction(image_predictions.tsv) \n",
    "\n",
    "3) The WeRateDogs Twitter archive(twitter_archive_enhanced.csv)"
   ]
  },
  {
   "cell_type": "markdown",
   "metadata": {},
   "source": [
    "### Assessting \n",
    "Second to assesst the quality and tidiness issues I have taked a look at the 3 datasets, and have used .info() function to see the coloumns and total intries and null values, after that I have collected the following issues :\n",
    ">#### Quality\n",
    "- wrong datatype for timestamp better be datetime datatype (DONE)\n",
    "- Source coloumn remove the tags to get where the user is tweeting from (iphone, web) (DONE)\n",
    "- remove retweets and reply (DONE)\n",
    "- DROP (in_reply_to_status_id, in_reply_to_user_id, retweeted_status_id, retweeted_status_user_id and retweeted_status_timestamp) (DONE)\n",
    "- name coloumn has missing values ###########\n",
    "- name coloumn has a cell value 'a','the','none','such' , - replace none values with nan -> python will recongize it (DONE)\n",
    "- expanded_urls coloumn has the same url written 2 to 3 times in the same cell seperated by ',' (DONE)\n",
    "- drop unneccessary coloumns in json data (Done)\n",
    "- rating_denominator values has to be 10 (DONE)\n",
    "- remove quoted tweets (Done)\n",
    "- if the image predictioin predict all three times false (not dogs images ) ->> or the rating is less than 10 #####\n",
    ">#### Tidiness\n",
    "- (doggo, floofer, pupper and puppo ) replace with one coloumn which its datatype is category\n",
    "- join two datasets (img prediction + twitter )\n",
    "- seperate text and the image url into two coloumns #####"
   ]
  },
  {
   "cell_type": "markdown",
   "metadata": {},
   "source": [
    "### Cleaning \n",
    "After that I have created a copy from each dataset to work on rather than the original. Then I've cleaned the issues by using the three steps (Define, clean and test) using various pandas functions:\n",
    "- to_datetime to change datatype to date and time.\n",
    "- I have used the following coloumns (retweeted_status_id, in_reply_to_status_id ) to spot retweets, replys and quouted tweets to remove them to have the original tweets only.\n",
    "- I have used .drop() function to get rid of all in-siginificant coloumns.  \n",
    "- I have used str.replace function to get the source of the tweet and get rid of the tags around it.\n",
    "- I have used str.split function in expanded_urls to remove the over-writter url in the same cell seperated by ',' .\n",
    "- I have set all rating_denominator to 10, and over-writted three wrong values in rating_nominator. \n",
    "- I have used str.replace to replace the values(a, the, such ) with 'none', then set all the none values to Nan.\n",
    "- I have used melt function to place (doggo, floofer, pupper and puppo ) in one coloumn.\n",
    "- I have merged the json dataset and the twitter enhanced dataset using merge function ."
   ]
  }
 ],
 "metadata": {
  "kernelspec": {
   "display_name": "Python 3",
   "language": "python",
   "name": "python3"
  },
  "language_info": {
   "codemirror_mode": {
    "name": "ipython",
    "version": 3
   },
   "file_extension": ".py",
   "mimetype": "text/x-python",
   "name": "python",
   "nbconvert_exporter": "python",
   "pygments_lexer": "ipython3",
   "version": "3.6.3"
  }
 },
 "nbformat": 4,
 "nbformat_minor": 2
}
